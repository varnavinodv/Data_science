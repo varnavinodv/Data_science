{
 "cells": [
  {
   "cell_type": "code",
   "execution_count": 11,
   "id": "629e1987",
   "metadata": {},
   "outputs": [
    {
     "data": {
      "text/plain": [
       "Text(0.5, 1.0, 'Height of people')"
      ]
     },
     "execution_count": 11,
     "metadata": {},
     "output_type": "execute_result"
    },
    {
     "data": {
      "image/png": "[encoded data removed]",
      "text/plain": [
       "<Figure size 432x288 with 1 Axes>"
      ]
     },
     "metadata": {
      "needs_background": "light"
     },
     "output_type": "display_data"
    }
   ],
   "source": [
    "import numpy as np\n",
    "from numpy import random as r\n",
    "import matplotlib.pyplot as plt\n",
    "x=['varna','rilu','sani','vysh','sajin','amegh','abnv','neha','amrtsh','pooja']\n",
    "y=r.randint(0,100,10)\n",
    "plt.bar(x,y,color=\"maroon\",width=0.5)\n",
    "plt.xlabel(\"name\",color=\"blue\")\n",
    "plt.ylabel(\"height\",color=\"blue\")\n",
    "plt.title('Height of people',color=\"blue\")\n",
    "\n"
   ]
  },
  {
   "cell_type": "code",
   "execution_count": null,
   "id": "5efcc32a",
   "metadata": {},
   "outputs": [],
   "source": []
  }
 ],
 "metadata": {
  "kernelspec": {
   "display_name": "Python 3 (ipykernel)",
   "language": "python",
   "name": "python3"
  },
  "language_info": {
   "codemirror_mode": {
    "name": "ipython",
    "version": 3
   },
   "file_extension": ".py",
   "mimetype": "text/x-python",
   "name": "python",
   "nbconvert_exporter": "python",
   "pygments_lexer": "ipython3",
   "version": "3.9.7"
  }
 },
 "nbformat": 4,
 "nbformat_minor": 5
}
