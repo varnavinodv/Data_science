{
 "cells": [
  {
   "cell_type": "code",
   "execution_count": 5,
   "id": "c14b4edd",
   "metadata": {},
   "outputs": [
    {
     "name": "stdout",
     "output_type": "stream",
     "text": [
      "[[10  9]\n",
      " [ 1  4]\n",
      " [10  1]\n",
      " [ 7 10]\n",
      " [ 3 10]\n",
      " [ 1  1]\n",
      " [ 2  8]\n",
      " [ 3  1]\n",
      " [ 8  5]\n",
      " [ 3  7]\n",
      " [ 1  9]\n",
      " [ 3  6]\n",
      " [ 7  3]\n",
      " [10  7]\n",
      " [ 2  3]]\n",
      "['fruit' 'protein' 'fruit' 'vegetable' 'vegetable' 'protein' 'vegetable'\n",
      " 'protein' 'fruit' 'vegetable' 'vegetable' 'protein' 'fruit' 'fruit'\n",
      " 'protein']\n"
     ]
    }
   ],
   "source": [
    "from sklearn.neighbors import KNeighborsClassifier\n",
    "from sklearn.metrics import accuracy_score,confusion_matrix,ConfusionMatrixDisplay\n",
    "from sklearn.model_selection import train_test_split\n",
    "from sklearn.preprocessing import LabelEncoder\n",
    "import pandas as pd\n",
    "import matplotlib.pyplot as plt\n",
    "data=pd.read_csv('food.csv')\n",
    "x=data.iloc[:,1:3].values\n",
    "print(x)\n",
    "y=data.iloc[:,3].values\n",
    "print(y)"
   ]
  },
  {
   "cell_type": "code",
   "execution_count": 20,
   "id": "2447cd5c",
   "metadata": {},
   "outputs": [
    {
     "name": "stdout",
     "output_type": "stream",
     "text": [
      "[0 1 0 2 2 1 2 1 0 2 2 1 0 0 1]\n",
      "[0 2 1 2]\n",
      "---------TEST CLASS-------\n",
      " [0 2 1 2]\n",
      "---------PREDICT CLASS-------\n",
      " [0 2 1 2]\n",
      "[[0.6 0.4 0. ]\n",
      " [0.2 0.2 0.6]\n",
      " [0.  0.8 0.2]\n",
      " [0.  0.4 0.6]]\n",
      "4\n",
      "[[1 0 0]\n",
      " [0 1 0]\n",
      " [0 0 2]]\n"
     ]
    },
    {
     "data": {
      "image/png": "[encoded data removed]",
      "text/plain": [
       "<Figure size 432x288 with 2 Axes>"
      ]
     },
     "metadata": {
      "needs_background": "light"
     },
     "output_type": "display_data"
    }
   ],
   "source": [
    "le=LabelEncoder()\n",
    "y_new=le.fit_transform(y)\n",
    "print(y_new)\n",
    "x_train,x_test,y_train,y_test=train_test_split(x,y_new,test_size=.25,random_state=3)\n",
    "print(y_test)\n",
    "knn=KNeighborsClassifier(n_neighbors=5)\n",
    "knn.fit(x_train,y_train)\n",
    "y_predict=knn.predict(x_test)\n",
    "print(\"---------TEST CLASS-------\\n\",y_test)\n",
    "print(\"---------PREDICT CLASS-------\\n\",y_predict)\n",
    "print(knn.predict_proba(x_test))\n",
    "print(accuracy_score(y_test,y_predict,normalize=False))\n",
    "cm=confusion_matrix(y_test,y_predict,normalize=None,labels=knn.classes_)\n",
    "print(cm)\n",
    "cm_dis=ConfusionMatrixDisplay(confusion_matrix=cm)\n",
    "cm_dis.plot()\n",
    "plt.show()"
   ]
  },
  {
   "cell_type": "code",
   "execution_count": 14,
   "id": "168c50ec",
   "metadata": {},
   "outputs": [
    {
     "name": "stdout",
     "output_type": "stream",
     "text": [
      "4\n",
      "[[1 0 0]\n",
      " [0 1 0]\n",
      " [0 0 2]]\n"
     ]
    }
   ],
   "source": [
    "print(accuracy_score(y_test,y_predict,normalize=False))\n",
    "cm=confusion_matrix(y_test,y_predict,normalize=None,labels=knn.classes_)\n",
    "print(cm)\n"
   ]
  },
  {
   "cell_type": "code",
   "execution_count": null,
   "id": "a30b54b5",
   "metadata": {},
   "outputs": [],
   "source": []
  }
 ],
 "metadata": {
  "kernelspec": {
   "display_name": "Python 3 (ipykernel)",
   "language": "python",
   "name": "python3"
  },
  "language_info": {
   "codemirror_mode": {
    "name": "ipython",
    "version": 3
   },
   "file_extension": ".py",
   "mimetype": "text/x-python",
   "name": "python",
   "nbconvert_exporter": "python",
   "pygments_lexer": "ipython3",
   "version": "3.9.7"
  }
 },
 "nbformat": 4,
 "nbformat_minor": 5
}
